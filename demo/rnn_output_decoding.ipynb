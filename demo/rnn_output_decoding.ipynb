{
 "cells": [
  {
   "cell_type": "code",
   "execution_count": 8,
   "metadata": {},
   "outputs": [],
   "source": [
    "from hwr.data.generator import IAMSequence\n",
    "from hwr.constants import ON, SPLIT, DECODER, BASE_DIR\n",
    "from hwr.models.ONNET import ONNET\n",
    "from matplotlib import pyplot as plt\n",
    "from hwr.decoding.ctc_decoder import *\n",
    "from hwr.decoding.mlf import *\n",
    "import numpy as np"
   ]
  },
  {
   "cell_type": "code",
   "execution_count": 4,
   "metadata": {},
   "outputs": [],
   "source": [
    "# Load model\n",
    "model = ONNET(preload=True)"
   ]
  },
  {
   "cell_type": "code",
   "execution_count": 23,
   "metadata": {
    "scrolled": true
   },
   "outputs": [
    {
     "data": {
      "image/png": "[encoded data removed]",
      "text/plain": [
       "<Figure size 720x720 with 1 Axes>"
      ]
     },
     "metadata": {
      "needs_background": "light"
     },
     "output_type": "display_data"
    },
    {
     "name": "stdout",
     "output_type": "stream",
     "text": [
      "\r",
      "1/1 [==============================] - 1s 661ms/step\n"
     ]
    },
    {
     "data": {
      "text/plain": [
       "\"She didn't think that Grant would show \""
      ]
     },
     "execution_count": 23,
     "metadata": {},
     "output_type": "execute_result"
    },
    {
     "data": {
      "image/png": "[encoded data removed]",
      "text/plain": [
       "<Figure size 720x720 with 1 Axes>"
      ]
     },
     "metadata": {
      "needs_background": "light"
     },
     "output_type": "display_data"
    }
   ],
   "source": [
    "# Sample with pre-decoded output after RNN\n",
    "pred_seq = IAMSequence(SPLIT.TEST, preprocess=6, npz=True, pred=True, inout_ratio=4)\n",
    "features, ground_truth, pointset = pred_seq.random_sample()\n",
    "pointset.plot_strokes()\n",
    "rnn_out = model.predict_softmax(features)\n",
    "plt.imshow(rnn_out[0])\n",
    "ground_truth"
   ]
  },
  {
   "cell_type": "code",
   "execution_count": 24,
   "metadata": {},
   "outputs": [
    {
     "name": "stderr",
     "output_type": "stream",
     "text": [
      "\n",
      "  0%|          | 0/5 [00:00<?, ?it/s]\u001b[A\n",
      " 20%|██        | 1/5 [00:00<00:00,  6.56it/s]\u001b[A\n",
      " 60%|██████    | 3/5 [00:00<00:00,  7.67it/s]\u001b[A\n",
      "100%|██████████| 5/5 [00:00<00:00,  8.70it/s]\u001b[A\n",
      "  0%|          | 0/1 [00:00<?, ?it/s]\u001b[A\n",
      "100%|██████████| 1/1 [00:01<00:00,  1.64s/it]\u001b[A"
     ]
    }
   ],
   "source": [
    "best_path_p = BestPathDecoder().decode(rnn_out, 1)[0]\n",
    "beam_search_p = BeamSearchDecoder(25).decode(rnn_out, 5)\n",
    "trie_bs_p = TrieBeamSearchDecoder(25).decode(rnn_out, 5)"
   ]
  },
  {
   "cell_type": "code",
   "execution_count": 25,
   "metadata": {},
   "outputs": [
    {
     "name": "stdout",
     "output_type": "stream",
     "text": [
      "Best path:\n",
      "ohe didnt think that Grant would ohow \n",
      "\n",
      "\n",
      "\n",
      "Vanilla beam search:\n",
      "ohe didnt think that Grant would ohow \n",
      "ohe didnit think that Grant would ohow \n",
      "ohe didnt think that Grant would how \n",
      "ohe didnot think that Grant would ohow \n",
      "ohe didnt think that Orant would ohow \n",
      "\n",
      "\n",
      "\n",
      "Trie beam search:\n",
      "che didnt think that Grant would how \n",
      "she didnt think that Grant would how \n",
      "o he didnt think that Grant would how \n",
      "che didnt think that Grant would show \n",
      "oe didnt think that Grant would how \n"
     ]
    }
   ],
   "source": [
    "print(\"Best path:\")\n",
    "print(best_path_p[0])\n",
    "print('\\n\\n')\n",
    "print(\"Vanilla beam search:\")\n",
    "for i in range(0, len(beam_search_p[0])):\n",
    "    print(beam_search_p[0][i])\n",
    "print('\\n\\n')\n",
    "print(\"Trie beam search:\")\n",
    "for i in range(0, len(trie_bs_p[0])):\n",
    "    print(trie_bs_p[0][i])"
   ]
  }
 ],
 "metadata": {
  "kernelspec": {
   "display_name": "tf_gpu",
   "language": "python",
   "name": "tf_gpu"
  },
  "language_info": {
   "codemirror_mode": {
    "name": "ipython",
    "version": 3
   },
   "file_extension": ".py",
   "mimetype": "text/x-python",
   "name": "python",
   "nbconvert_exporter": "python",
   "pygments_lexer": "ipython3",
   "version": "3.6.8"
  },
  "varInspector": {
   "cols": {
    "lenName": 16,
    "lenType": 16,
    "lenVar": 40
   },
   "kernels_config": {
    "python": {
     "delete_cmd_postfix": "",
     "delete_cmd_prefix": "del ",
     "library": "var_list.py",
     "varRefreshCmd": "print(var_dic_list())"
    },
    "r": {
     "delete_cmd_postfix": ") ",
     "delete_cmd_prefix": "rm(",
     "library": "var_list.r",
     "varRefreshCmd": "cat(var_dic_list()) "
    }
   },
   "oldHeight": 346.99678,
   "position": {
    "height": "369.219px",
    "left": "729.941px",
    "right": "20px",
    "top": "9.96528px",
    "width": "250px"
   },
   "types_to_exclude": [
    "module",
    "function",
    "builtin_function_or_method",
    "instance",
    "_Feature"
   ],
   "varInspector_section_display": "block",
   "window_display": false
  }
 },
 "nbformat": 4,
 "nbformat_minor": 2
}
