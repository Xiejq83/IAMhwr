{
 "cells": [
  {
   "cell_type": "code",
   "execution_count": 1,
   "metadata": {},
   "outputs": [],
   "source": [
    "from hwr.data.generator import IAMSequence\n",
    "from hwr.constants import ON, SPLIT, DECODER\n",
    "from hwr.models.ONNET import ONNET\n",
    "from matplotlib import pyplot as plt\n",
    "from hwr.decoding.ctc_decode import best_path, beam_search\n",
    "from hwr.decoding.trie_beam_search import trie_beam_search\n",
    "from hwr.decoding.mlf import *\n",
    "import numpy as np"
   ]
  },
  {
   "cell_type": "code",
   "execution_count": 2,
   "metadata": {},
   "outputs": [
    {
     "name": "stdout",
     "output_type": "stream",
     "text": [
      "preloading model weights from /home/jasper/Desktop/fyp/HWR/hwr/../models/iamon/ONNET3v2/2019-03-24-00:22:37-a412/weights.h5\n"
     ]
    }
   ],
   "source": [
    "# Load model\n",
    "model = ONNET(preload=True)"
   ]
  },
  {
   "cell_type": "code",
   "execution_count": 3,
   "metadata": {
    "scrolled": true
   },
   "outputs": [
    {
     "data": {
      "image/png": "[encoded data removed]",
      "text/plain": [
       "<Figure size 720x720 with 1 Axes>"
      ]
     },
     "metadata": {
      "needs_background": "light"
     },
     "output_type": "display_data"
    },
    {
     "name": "stdout",
     "output_type": "stream",
     "text": [
      "\r",
      "1/1 [==============================] - 1s 1s/step\n"
     ]
    },
    {
     "data": {
      "text/plain": [
       "'he swiftly placated . \" Have '"
      ]
     },
     "execution_count": 3,
     "metadata": {},
     "output_type": "execute_result"
    },
    {
     "data": {
      "image/png": "[encoded data removed]",
      "text/plain": [
       "<Figure size 720x720 with 1 Axes>"
      ]
     },
     "metadata": {
      "needs_background": "light"
     },
     "output_type": "display_data"
    }
   ],
   "source": [
    "# Sample with pre-decoded output after RNN\n",
    "pred_seq = IAMSequence(SPLIT.TEST, preprocess=6, npz=True, pred=True, inout_ratio=4)\n",
    "features, ground_truth, pointset = pred_seq.random_sample()\n",
    "pointset.plot_strokes()\n",
    "rnn_out = model.predict_softmax(features)\n",
    "plt.imshow(rnn_out[0])\n",
    "ground_truth"
   ]
  },
  {
   "cell_type": "code",
   "execution_count": 4,
   "metadata": {},
   "outputs": [
    {
     "name": "stdout",
     "output_type": "stream",
     "text": [
      "WARNING:tensorflow:From /home/jasper/anaconda3/envs/tf_gpu/lib/python3.6/site-packages/tensorflow/python/keras/backend.py:4831: sparse_to_dense (from tensorflow.python.ops.sparse_ops) is deprecated and will be removed in a future version.\n",
      "Instructions for updating:\n",
      "Create a `tf.sparse.SparseTensor` and use `tf.sparse.to_dense` instead.\n"
     ]
    },
    {
     "name": "stderr",
     "output_type": "stream",
     "text": [
      "100%|██████████| 5/5 [00:00<00:00, 18.64it/s]\n",
      "100%|██████████| 1/1 [00:02<00:00,  2.13s/it]\n"
     ]
    }
   ],
   "source": [
    "best_path_p = best_path(rnn_out)\n",
    "beam_search_p = beam_search(rnn_out, 25, top_paths=5)\n",
    "trie_bs_p = trie_beam_search(rnn_out, 25, top_paths=5)"
   ]
  },
  {
   "cell_type": "code",
   "execution_count": 5,
   "metadata": {},
   "outputs": [
    {
     "name": "stdout",
     "output_type": "stream",
     "text": [
      "Best path:\n",
      "he swiftly plocatel . \" Houve \n",
      "\n",
      "\n",
      "\n",
      "Vanilla beam search:\n",
      "he swiftly plocatel . \" Houve \n",
      "he swiftly plocatel . \" Howve \n",
      "he swiftly plocateol . \" Houve \n",
      "he swiftly plocateol . \" Howve \n",
      "he swiftly plocatel . \" Hoive \n",
      "\n",
      "\n",
      "\n",
      "Trie beam search:\n",
      "he swiftly placate! . \" Howe \n",
      "he swiftly placate l . \" Howe \n",
      "he swiftly placate! . \" Hole \n",
      "he swiftly placate? . \" Howe \n",
      "he swiftly placate l . \" Hole \n"
     ]
    }
   ],
   "source": [
    "print(\"Best path:\")\n",
    "print(best_path_p[0])\n",
    "print('\\n\\n')\n",
    "print(\"Vanilla beam search:\")\n",
    "for i in range(0, len(beam_search_p[0])):\n",
    "    print(beam_search_p[0][i])\n",
    "print('\\n\\n')\n",
    "print(\"Trie beam search:\")\n",
    "for i in range(0, len(trie_bs_p[0])):\n",
    "    print(trie_bs_p[0][i])"
   ]
  }
 ],
 "metadata": {
  "kernelspec": {
   "display_name": "tf_gpu",
   "language": "python",
   "name": "tf_gpu"
  },
  "language_info": {
   "codemirror_mode": {
    "name": "ipython",
    "version": 3
   },
   "file_extension": ".py",
   "mimetype": "text/x-python",
   "name": "python",
   "nbconvert_exporter": "python",
   "pygments_lexer": "ipython3",
   "version": "3.6.8"
  },
  "varInspector": {
   "cols": {
    "lenName": 16,
    "lenType": 16,
    "lenVar": 40
   },
   "kernels_config": {
    "python": {
     "delete_cmd_postfix": "",
     "delete_cmd_prefix": "del ",
     "library": "var_list.py",
     "varRefreshCmd": "print(var_dic_list())"
    },
    "r": {
     "delete_cmd_postfix": ") ",
     "delete_cmd_prefix": "rm(",
     "library": "var_list.r",
     "varRefreshCmd": "cat(var_dic_list()) "
    }
   },
   "oldHeight": 346.99678,
   "position": {
    "height": "369.219px",
    "left": "728.958px",
    "right": "20px",
    "top": "9.96875px",
    "width": "250px"
   },
   "types_to_exclude": [
    "module",
    "function",
    "builtin_function_or_method",
    "instance",
    "_Feature"
   ],
   "varInspector_section_display": "block",
   "window_display": true
  }
 },
 "nbformat": 4,
 "nbformat_minor": 2
}
